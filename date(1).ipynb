{
 "metadata": {
  "name": "",
  "signature": "sha256:a50354c2cc2026c299714b5e3581e0106180d0b8eba9ca6da3f1db91caa64b40"
 },
 "nbformat": 3,
 "nbformat_minor": 0,
 "worksheets": [
  {
   "cells": [
    {
     "cell_type": "code",
     "collapsed": false,
     "input": [
      "import numpy as np\n",
      "import matplotlib.pyplot as plt\n",
      "import matplotlib.dates as mdates"
     ],
     "language": "python",
     "metadata": {},
     "outputs": [],
     "prompt_number": 1
    },
    {
     "cell_type": "code",
     "collapsed": false,
     "input": [
      "def graph():\n",
      "    date, value = np.loadtxt('test_date1.csv', delimiter=',', unpack=True,\n",
      "                             converters = {0: mdates.strpdate2num('%Y-%m-%d')})\n",
      "   \n",
      "    fig = plt.figure()\n",
      "    \n",
      "    ax1 = fig.add_subplot(1,1,1, axisbg = 'white')\n",
      "    \n",
      "    plt.plot_date(x=date, y = value, fmt = '-')\n",
      "    plt.title('Title')\n",
      "    plt.xlabel('date')\n",
      "    plt.ylabel('value')\n",
      "    plt.show()"
     ],
     "language": "python",
     "metadata": {},
     "outputs": [],
     "prompt_number": 2
    },
    {
     "cell_type": "code",
     "collapsed": false,
     "input": [
      "graph()"
     ],
     "language": "python",
     "metadata": {},
     "outputs": [],
     "prompt_number": 3
    },
    {
     "cell_type": "code",
     "collapsed": false,
     "input": [],
     "language": "python",
     "metadata": {},
     "outputs": []
    }
   ],
   "metadata": {}
  }
 ]
}